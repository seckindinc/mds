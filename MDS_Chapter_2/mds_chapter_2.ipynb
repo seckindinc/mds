{
 "cells": [
  {
   "cell_type": "code",
   "execution_count": 1,
   "metadata": {},
   "outputs": [],
   "source": [
    "# Predicting Commuter Transportation Choices (Python)\n",
    "\n",
    "# import packages into the workspace for this program\n",
    "from __future__ import division, print_function\n",
    "import numpy as np\n",
    "import pandas as pd\n",
    "import statsmodels.api as sm"
   ]
  },
  {
   "cell_type": "code",
   "execution_count": 2,
   "metadata": {},
   "outputs": [
    {
     "name": "stdout",
     "output_type": "stream",
     "text": [
      "     cartime  carcost  traintime  traincost choice\n",
      "0         70       50         64         39  TRAIN\n",
      "1         50      230         60         32  TRAIN\n",
      "2         50       70         58         40    CAR\n",
      "3         60      108         93         62    CAR\n",
      "4         70       60         68         26  TRAIN\n",
      "..       ...      ...        ...        ...    ...\n",
      "328       27       50         52         40    CAR\n",
      "329       25       25         63         80    CAR\n",
      "330       50       50         80         50    CAR\n",
      "331       25       25         39         20    CAR\n",
      "332       35       64         95         40    CAR\n",
      "\n",
      "[333 rows x 5 columns]\n"
     ]
    }
   ],
   "source": [
    "# read data from comma-delimited text file... create DataFrame object\n",
    "sydney = pd.read_csv(\"sydney.csv\")\n",
    "\n",
    "# check input DataFrame\n",
    "print(sydney)"
   ]
  },
  {
   "cell_type": "code",
   "execution_count": 3,
   "metadata": {},
   "outputs": [],
   "source": [
    "# dictionary object to convert string to binary integer \n",
    "response_to_binary = {'TRAIN':1, 'CAR':0}\n",
    "\n",
    "y = sydney['choice'].map(response_to_binary)\n",
    "cartime = sydney['cartime']\n",
    "carcost = sydney['carcost']\n",
    "traintime = sydney['traintime']\n",
    "traincost = sydney['traincost']"
   ]
  },
  {
   "cell_type": "code",
   "execution_count": 6,
   "metadata": {},
   "outputs": [
    {
     "name": "stdout",
     "output_type": "stream",
     "text": [
      "                 Generalized Linear Model Regression Results                  \n",
      "==============================================================================\n",
      "Dep. Variable:                 choice   No. Observations:                  333\n",
      "Model:                            GLM   Df Residuals:                      328\n",
      "Model Family:                Binomial   Df Model:                            4\n",
      "Link Function:                  logit   Scale:                          1.0000\n",
      "Method:                          IRLS   Log-Likelihood:                -136.32\n",
      "Date:                Mon, 09 Aug 2021   Deviance:                       272.63\n",
      "Time:                        19:44:16   Pearson chi2:                     326.\n",
      "No. Iterations:                     6                                         \n",
      "Covariance Type:            nonrobust                                         \n",
      "==============================================================================\n",
      "                 coef    std err          z      P>|z|      [0.025      0.975]\n",
      "------------------------------------------------------------------------------\n",
      "const         -1.4440      0.585     -2.468      0.014      -2.591      -0.297\n",
      "x1             0.0565      0.011      5.179      0.000       0.035       0.078\n",
      "x2             0.0298      0.007      4.283      0.000       0.016       0.043\n",
      "x3             0.0149      0.009      1.573      0.116      -0.004       0.034\n",
      "x4            -0.1113      0.017     -6.736      0.000      -0.144      -0.079\n",
      "==============================================================================\n"
     ]
    }
   ],
   "source": [
    "# define design matrix for the linear predictor\n",
    "Intercept = np.array([1] * len(y))\n",
    "x = np.array([Intercept, cartime, carcost, traintime, traincost]).T\n",
    "\n",
    "# generalized linear model for logistic regression\n",
    "logistic_regression = sm.GLM(y, x, family=sm.families.Binomial())\n",
    "sydney_fit = logistic_regression.fit()\n",
    "print(sydney_fit.summary())"
   ]
  },
  {
   "cell_type": "code",
   "execution_count": 9,
   "metadata": {},
   "outputs": [],
   "source": [
    "sydney['train_prob'] = sydney_fit.predict(linear = False)"
   ]
  },
  {
   "cell_type": "code",
   "execution_count": 11,
   "metadata": {},
   "outputs": [],
   "source": [
    "# function to convert probability to choice prediction\n",
    "def prob_to_response(response_prob, cutoff):\n",
    "    if(response_prob > cutoff):\n",
    "        return('TRAIN')\n",
    "    else:\n",
    "        return('CAR')\n",
    "            \n",
    "# add binary predictions to DataFrame sydney using cutoff value for the case\n",
    "sydney['choice_pred'] = \\\n",
    "    sydney['train_prob'].apply(lambda d: prob_to_response(d, cutoff = 0.50))"
   ]
  },
  {
   "cell_type": "code",
   "execution_count": 21,
   "metadata": {},
   "outputs": [
    {
     "name": "stdout",
     "output_type": "stream",
     "text": [
      "choice       CAR  TRAIN\n",
      "choice_pred            \n",
      "CAR          155     30\n",
      "TRAIN         28    120\n",
      "\n",
      " Percentage Correctly Predicted 0.826 \n",
      "\n"
     ]
    }
   ],
   "source": [
    "# evaluate performance of logistic regression model    \n",
    "# obtain confusion matrix and proportion of observations correctly predicted    \n",
    "cmat = pd.crosstab(sydney['choice_pred'], sydney['choice']) \n",
    "a = float(cmat.iloc[0,0])\n",
    "b = float(cmat.iloc[0,1])\n",
    "c = float(cmat.iloc[1,0]) \n",
    "d = float(cmat.iloc[1,1])\n",
    "n = a + b + c + d\n",
    "predictive_accuracy = (a + d)/n  \n",
    "\n",
    "print(cmat)\n",
    "print('\\n Percentage Correctly Predicted',\\\n",
    "     round(predictive_accuracy, 3), \"\\n\")"
   ]
  }
 ],
 "metadata": {
  "kernelspec": {
   "display_name": "mds_venv",
   "language": "python",
   "name": "mds_venv"
  },
  "language_info": {
   "codemirror_mode": {
    "name": "ipython",
    "version": 3
   },
   "file_extension": ".py",
   "mimetype": "text/x-python",
   "name": "python",
   "nbconvert_exporter": "python",
   "pygments_lexer": "ipython3",
   "version": "3.7.9"
  }
 },
 "nbformat": 4,
 "nbformat_minor": 4
}
